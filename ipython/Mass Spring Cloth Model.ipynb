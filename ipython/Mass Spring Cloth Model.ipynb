{
 "cells": [
  {
   "cell_type": "markdown",
   "metadata": {},
   "source": [
    "Mass Spring Model\n",
    "------------------"
   ]
  },
  {
   "cell_type": "markdown",
   "metadata": {},
   "source": [
    "A mass sping model is a decent approximation for cloth or any thin shelled material.  The model is made up of a mesh of nodes interconnected with edges.  The nodes have a mass $m$ and the edges have a spring contant $k$, length $len$, and a natural resting length $len_{rest}$.  The force of gravity is included with, using the normal gravitational constant, $g=<0,0,-9.8>$.\n",
    "\n",
    "Thus the force on each node is:\n",
    "$$F = mg + \\sum_{springs} k(len - len_{rest})$$\n",
    "\n",
    "Then Newton's second equation provides the differential equations to update the position of the nodes, $x$.  A damepning factor $\\lambda$ is included to approximate the effect of friction.  We use two coupled first order equations for each node:\n",
    "$$\\frac{dx}{dt} = v$$\n",
    "$$\\frac{dv}{dt} = \\frac{F - \\lambda v}{m}$$\n",
    "\n",
    "Given this formulation of differential equations an initial velocity must be supplied, zero is the natural choice.\n",
    "\n",
    "In order to solve the differential equations euler's method is used."
   ]
  },
  {
   "cell_type": "code",
   "execution_count": null,
   "metadata": {
    "collapsed": true
   },
   "outputs": [],
   "source": [
    "# second order ODE solver using euler's method\n",
    "#    f : y'' = f(y, y') where y'' is a 3D vector with dimensions <x,y,z>\n",
    "#    n : number of slices to split the timespan into \n",
    "#   t0 : initial time\n",
    "#   t1 : final time\n",
    "#   x0 : initial position vector, is a 3D vector with dimensions <x,y,z>\n",
    "#   v0 : initial value of velocity, is a 3D vector with dimensions <x,y,z>\n",
    "# Returns value of y, y1 at xb. \n",
    "def Euler(f, t0, t1, x0, v0, n):\n",
    "      h = (t1 - t0) / float(n)\n",
    "      t = t0\n",
    "      x = x0\n",
    "      v = v0\n",
    "      for i in range(n):\n",
    "          v += h * f(y, y1)\n",
    "          x += h * v\n",
    "          #t += h\n",
    "      return [x, v]"
   ]
  },
  {
   "cell_type": "code",
   "execution_count": null,
   "metadata": {
    "collapsed": true
   },
   "outputs": [],
   "source": [
    "# mesh data structure\n",
    "x_lim = [0, 10];\n",
    "y_lim = [0, 8];\n",
    "\n",
    "n_nodes = 100;\n",
    "z_height = 10;\n",
    "\n",
    "\n",
    "\n"
   ]
  }
 ],
 "metadata": {
  "kernelspec": {
   "display_name": "Python 2",
   "language": "python",
   "name": "python2"
  },
  "language_info": {
   "codemirror_mode": {
    "name": "ipython",
    "version": 2
   },
   "file_extension": ".py",
   "mimetype": "text/x-python",
   "name": "python",
   "nbconvert_exporter": "python",
   "pygments_lexer": "ipython2",
   "version": "2.7.8"
  }
 },
 "nbformat": 4,
 "nbformat_minor": 0
}
