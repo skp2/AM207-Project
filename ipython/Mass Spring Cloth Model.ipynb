{
 "cells": [
  {
   "cell_type": "markdown",
   "metadata": {},
   "source": [
    "Mass Spring Model\n",
    "------------------"
   ]
  },
  {
   "cell_type": "markdown",
   "metadata": {},
   "source": [
    "A mass sping model is a decent approximation for cloth or any thin shelled material.  The model is made up of a mesh of nodes interconnected with edges.  The nodes have a mass $m$ and the edges have a spring contant $k$, length $len$, and a natural resting length $len_{rest}$.  The force of gravity is included with, using the normal gravitational constant, $g=<0,0,-9.8>$.\n",
    "\n",
    "Thus the force on each node is:\n",
    "$$F = mg + \\sum_{springs} k(len - len_{rest})$$\n",
    "\n",
    "Then Newton's second equation provides the differential equations to update the position of the nodes, $x$.  A damepning factor $\\lambda$ is included to approximate the effect of friction.  We use two coupled first order equations for each node:\n",
    "$$\\frac{dx}{dt} = v$$\n",
    "$$\\frac{dv}{dt} = \\frac{F - \\lambda v}{m}$$\n",
    "\n",
    "Given this formulation of differential equations an initial velocity must be supplied, zero is the natural choice.\n",
    "\n",
    "In order to solve the differential equations euler's method is used."
   ]
  },
  {
   "cell_type": "code",
   "execution_count": 3,
   "metadata": {
    "collapsed": true
   },
   "outputs": [],
   "source": [
    "# Python IMPORTS\n",
    "import numpy as np\n",
    "import scipy as sp"
   ]
  },
  {
   "cell_type": "code",
   "execution_count": 4,
   "metadata": {
    "collapsed": false
   },
   "outputs": [
    {
     "ename": "SyntaxError",
     "evalue": "invalid syntax (<ipython-input-4-ada8107ceeb6>, line 13)",
     "output_type": "error",
     "traceback": [
      "\u001b[1;36m  File \u001b[1;32m\"<ipython-input-4-ada8107ceeb6>\"\u001b[1;36m, line \u001b[1;32m13\u001b[0m\n\u001b[1;33m    X_prime[3] = ((forceVector[0]-)-dameningFactor*X[3])/mass;\u001b[0m\n\u001b[1;37m                                  ^\u001b[0m\n\u001b[1;31mSyntaxError\u001b[0m\u001b[1;31m:\u001b[0m invalid syntax\n"
     ]
    }
   ],
   "source": [
    "# ODES   - Ordinary Differential Equations\n",
    "\n",
    "# t - time [s]\n",
    "# X = [pos_x, pos_y, pos_z, vel_x, vel_y, vel_z]\n",
    "# forceVector - [force_x, force_y, force_z]\n",
    "# \n",
    "def newtonEq(t, X, mass, forceVector, dampeningFactor, links, particle):\n",
    "    X_prime = np.array(X.len);\n",
    "    # position\n",
    "    X_prime[0] = X[3];\n",
    "    X_prime[1] = X[4];\n",
    "    X_prime[2] = X[5];\n",
    "    \n",
    "    # velocity\n",
    "    springforce = np.zeros(3);\n",
    "    for link in links:\n",
    "        springforce += link.getForce(particle);\n",
    "    X_prime[3] = ((forceVector[0] + springforce[0]) - dampeningFactor*X[3])/mass;   # model adds velocity dampening in place\n",
    "    X_prime[4] = ((forceVector[1] + springforce[1]) - dampeningFactor*X[4])/mass;   # of internal friction\n",
    "    X_prime[5] = ((forceVector[2] + springforce[2]) - dampeningFactor*X[5])/mass;\n",
    "    return X_prime;\n",
    "\n",
    "def integrate(t, dt, X, dampeningFactor, particle):\n",
    "    method = sp.integrate.ode(newtonEq).set_integrator('dopri5');  # runge-katta 4-5 method\n",
    "    method.set_initial_value(X, t).set_f_params( particle.mass, particle.forceVector, dampeningFactor, particle.links, particle);\n",
    "    return method.integrate(method.t+dt);\n"
   ]
  },
  {
   "cell_type": "code",
   "execution_count": 5,
   "metadata": {
    "collapsed": true
   },
   "outputs": [],
   "source": [
    "# mesh class design influenced by https://github.com/valorcurse/cloth-simulation\n",
    "#   used under WTFPL license - http://www.wtfpl.net/\n",
    "\n",
    "class Particle:\n",
    "    def __init__(self, posvel, mass):\n",
    "        self.posvel = posvel\n",
    "        self.lastPosvel = posvel\n",
    "        self.force =  np.zeros(3);\n",
    "        forceVector[2] -= self.mass * -9.81;     # gravity in z direction\n",
    "        self.mass = mass\n",
    "        self.anchored = False\n",
    "        self.links = []\n",
    "    \n",
    "    def update(self, et, dt):\n",
    "        if(not self.anchored):\n",
    "            self.posvel = integrate(et, dt, self.posvel, self.mass, self.forceVector, dampeningFactor, self);\n",
    "        \n",
    "    def applyForce(self, vec3d):\n",
    "        self.force += vec3d;\n",
    "        \n",
    "    def applyConstraints(self):\n",
    "        for link in self.links:\n",
    "            link.applyConstraints()\n",
    "        \n",
    "class Link:\n",
    "    def __init__(self, part1, part2, restingDist, k):\n",
    "        self.particle1 = part1\n",
    "        self.particle2 = part2\n",
    "        self.restingDistance = restingDist\n",
    "        self.springConstant = k\n",
    "        \n",
    "    def getForce(self, particle):\n",
    "        # direction is with respect to particle in the argument\n",
    "        #   spring force is always directed along the length of the spring\n",
    "        #   either towards or away from the center\n",
    "        if(particle == self.particle1):\n",
    "            part1 = self.particle1;\n",
    "            part2 = self.particle2;\n",
    "        elif(particle == self.particle2):\n",
    "            part2 = self.particle1;\n",
    "            part1 = self.particle2;\n",
    "        else:\n",
    "            raise ValueError('a bad thing happened, the specified particle to use as reference location is not in this Link')\n",
    "    \n",
    "        # displacement in 1D\n",
    "        dz = part2.posvel[2] - part1.posvel[2];\n",
    "        dy = part2.posvel[1] - part1.posvel[1];\n",
    "        dx = part2.posvel[0] - part1.posvel[0];\n",
    "        currLen = np.sqrt(dx * dx + dy * dy + dz * dz);\n",
    "        # spring force\n",
    "        mag_force = self.springConstant * (currLen - self.restingDistance);    # hooke's law F = kx\n",
    "        \n",
    "        # place force in the direction of the spring\n",
    "        springForce =  np.zeros(3);\n",
    "        springForce[0] = (dx/currLen) * mag_force;\n",
    "        springForce[1] = (dy/currLen) * mag_force;\n",
    "        springForce[2] = (dz/currLen) * mag_force;\n",
    "        \n",
    "\n",
    "\n",
    "\n",
    "\n"
   ]
  },
  {
   "cell_type": "code",
   "execution_count": null,
   "metadata": {
    "collapsed": true
   },
   "outputs": [],
   "source": []
  },
  {
   "cell_type": "code",
   "execution_count": null,
   "metadata": {
    "collapsed": true
   },
   "outputs": [],
   "source": []
  },
  {
   "cell_type": "code",
   "execution_count": null,
   "metadata": {
    "collapsed": true
   },
   "outputs": [],
   "source": [
    "def generateShirtMesh():\n",
    "\n",
    "class Shirt:\n",
    "    def __init__(self, density, springConstant, controlPoints):\n",
    "        self.mesh = generateShirtMesh()"
   ]
  }
 ],
 "metadata": {
  "kernelspec": {
   "display_name": "Python 2",
   "language": "python",
   "name": "python2"
  },
  "language_info": {
   "codemirror_mode": {
    "name": "ipython",
    "version": 2
   },
   "file_extension": ".py",
   "mimetype": "text/x-python",
   "name": "python",
   "nbconvert_exporter": "python",
   "pygments_lexer": "ipython2",
   "version": "2.7.8"
  }
 },
 "nbformat": 4,
 "nbformat_minor": 0
}
